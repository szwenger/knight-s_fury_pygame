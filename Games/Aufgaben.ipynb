{
 "cells": [
  {
   "cell_type": "markdown",
   "metadata": {},
   "source": [
    "![](_images/EIP-P-Titel.svg)"
   ]
  },
  {
   "cell_type": "markdown",
   "metadata": {},
   "source": [
    "# Organisation:\n",
    "\n",
    "## Praktikumszeiten: \n",
    "\n",
    "Mo, der 4.3.24 - Fr, der 15.3.24 täglich von 9-17 Uhr\n",
    "\n",
    "## Räume:\n",
    "\n",
    "Seminarräume: 04-224, 04-426, 04-512, 04-516, 04-522 (4. Stock, Staudingerweg 9) durchgängig\n",
    "\n",
    "Hörsaal: 03-428 (mit Ausnahme von wenigen Stunden, in denen der Raum bereits anderweitig reserviert ist)\n",
    "\n",
    "## Besprechung im Plenum:\n",
    "\n",
    "16:30 Uhr täglich im Hörsaal 03-428 (Diskussion allgemeiner Probleme, Zwischenpräsentationen)\n",
    "\n",
    "## Gruppengröße:\n",
    "\n",
    "3 Personen (in begründeten Ausnahmefällen auch 2 Personen)\n",
    "\n",
    "selbstorganisierte Gruppeneinteilung per Moodle am Mo, den 4.3.\n",
    "\n",
    "## Versionsverwaltung:\n",
    "\n",
    "https://gitlab.rlp.net\n",
    "\n",
    "## Abschlusspräsentationen:\n",
    "\n",
    "Do, den 14.3. und Fr, den 15.3. nachmittags (5-10 Minuten pro Gruppe)"
   ]
  },
  {
   "cell_type": "markdown",
   "metadata": {},
   "source": [
    "# 1. Aufgabe:\n",
    "\n",
    "Zeichnen Sie zwei der folgenden Flaggen mit Hilfe der PyGame-Bibliothek (siehe https://www.pygame.org):\n",
    "\n",
    "- Griechenland (siehe https://de.wikipedia.org/wiki/Flagge_Griechenlands)\n",
    "\n",
    "- Nordmazedonien (siehe https://en.wikipedia.org/wiki/Flag_of_North_Macedonia)\n",
    "\n",
    "- Großbrittanien (siehe https://en.wikipedia.org/wiki/Union_Jack)\n",
    "\n",
    "- Türkei (siehe https://en.wikipedia.org/wiki/Flag_of_Turkey)"
   ]
  },
  {
   "cell_type": "markdown",
   "metadata": {},
   "source": [
    "![](_images/FlagGreece.svg)"
   ]
  },
  {
   "cell_type": "markdown",
   "metadata": {},
   "source": [
    "![](_images/Nordmazedonien.svg)"
   ]
  },
  {
   "cell_type": "markdown",
   "metadata": {},
   "source": [
    "![](_images/UnionJack.svg)"
   ]
  },
  {
   "cell_type": "markdown",
   "metadata": {},
   "source": [
    "![](_images/FlagTurkey.svg)"
   ]
  },
  {
   "cell_type": "markdown",
   "metadata": {},
   "source": [
    "# 2. Aufgabe:\n",
    "\n",
    "Implementieren Sie das Brettspiel Othello (siehe https://de.wikipedia.org/wiki/Othello_(Spiel)).\n"
   ]
  },
  {
   "cell_type": "markdown",
   "metadata": {},
   "source": [
    "![](_images/Othello.png)"
   ]
  },
  {
   "cell_type": "markdown",
   "metadata": {},
   "source": [
    "# 3. Aufgabe:\n",
    "\n",
    "Implementieren Sie ein Computerspiel Ihrer Wahl - nach Rücksprache mit einem Praktikumsbetreuer."
   ]
  }
 ],
 "metadata": {
  "language_info": {
   "name": "python"
  }
 },
 "nbformat": 4,
 "nbformat_minor": 2
}
