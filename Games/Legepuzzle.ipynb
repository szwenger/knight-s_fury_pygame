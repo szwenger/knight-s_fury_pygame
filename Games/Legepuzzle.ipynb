{
 "cells": [
  {
   "cell_type": "markdown",
   "metadata": {},
   "source": [
    "![](_images/Tangram.svg)"
   ]
  },
  {
   "cell_type": "markdown",
   "metadata": {},
   "source": [
    "# UML-Diagramm für Legepuzzle\n",
    "\n",
    "![](_images/Legepuzzles.svg)"
   ]
  }
 ],
 "metadata": {
  "language_info": {
   "name": "python"
  }
 },
 "nbformat": 4,
 "nbformat_minor": 2
}
